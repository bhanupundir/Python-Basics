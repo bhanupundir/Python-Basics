{
  "nbformat": 4,
  "nbformat_minor": 0,
  "metadata": {
    "colab": {
      "provenance": []
    },
    "kernelspec": {
      "name": "python3",
      "display_name": "Python 3"
    },
    "language_info": {
      "name": "python"
    }
  },
  "cells": [
    {
      "cell_type": "code",
      "execution_count": null,
      "metadata": {
        "id": "Off2WruWnADq"
      },
      "outputs": [],
      "source": []
    },
    {
      "cell_type": "markdown",
      "source": [
        "# Python Basics"
      ],
      "metadata": {
        "id": "JEDJxf2_nVpx"
      }
    },
    {
      "cell_type": "markdown",
      "source": [
        "Theory\n"
      ],
      "metadata": {
        "id": "o4nXpG4woBJg"
      }
    },
    {
      "cell_type": "markdown",
      "source": [],
      "metadata": {
        "id": "HzXn75mkoGgB"
      }
    },
    {
      "cell_type": "markdown",
      "source": [
        "**1. What is Python, and why is it popular\u001a**"
      ],
      "metadata": {
        "id": "pYI0ZQZNoHJY"
      }
    },
    {
      "cell_type": "markdown",
      "source": [
        "Ans--> **Python** is a high-level, interpreted programming language that emphasizes code readability and simplicity. It was created by **Guido van Rossum** and first released in 1991. Python's syntax allows developers to express concepts in fewer lines of code compared to other programming languages.\n",
        "\n",
        "### Key Features of Python:\n",
        "1. **Readable Syntax**: Python’s syntax is clean and easy to read, making it a great language for beginners and experienced developers alike.\n",
        "2. **Interpreted Language**: Python code is executed line by line, which makes debugging easier.\n",
        "3. **Dynamically Typed**: Variables don't need explicit declarations, as Python determines the type of a variable at runtime.\n",
        "4. **High-Level**: Python abstracts away most of the complexities of machine code, which allows developers to focus more on logic than on memory management.\n",
        "5. **Extensive Libraries**: Python has a rich ecosystem of libraries and frameworks that simplify many tasks, from web development (like Django and Flask) to data science (like Pandas, NumPy, and Matplotlib).\n",
        "\n",
        "### Why is Python Popular?\n",
        "1. **Ease of Learning and Use**: Its simple syntax and readable structure make Python an ideal language for beginners.\n",
        "2. **Versatility**: Python is used across various domains such as web development, data science, machine learning, artificial intelligence, automation, and scientific computing.\n",
        "3. **Strong Community Support**: The large and active Python community contributes to a wealth of open-source libraries, frameworks, and tools, making it easier to implement complex tasks.\n",
        "4. **Cross-Platform Compatibility**: Python can run on various operating systems such as Windows, macOS, and Linux, which makes it flexible for different environments.\n",
        "5. **Integration Capabilities**: Python can easily integrate with other languages like C, C++, and Java, as well as interact with databases and APIs.\n",
        "6. **Popularity in Data Science & AI**: Python has become the go-to language for data analysis, machine learning, and AI, largely due to powerful libraries such as TensorFlow, Keras, and Scikit-learn.\n"
      ],
      "metadata": {
        "id": "yh-gcO6Zogj5"
      }
    },
    {
      "cell_type": "markdown",
      "source": [
        " **2. What is an interpreter in Python?**"
      ],
      "metadata": {
        "id": "9leNF4g3otAh"
      }
    },
    {
      "cell_type": "markdown",
      "source": [
        "Ans--> In Python, an **interpreter** is a program that reads and executes Python code directly, line by line. When you run a Python program, the interpreter processes each command in the code and executes it in real-time, rather than compiling the code into machine language first (like in languages such as C or Java).\n",
        "\n",
        "Here’s a brief overview of how the Python interpreter works:\n",
        "1. **Reading the code**: The interpreter reads the Python source code you write (usually stored in `.py` files).\n",
        "2. **Converting to bytecode**: It converts the source code into an intermediate representation called bytecode, which is a low-level, platform-independent representation of the code.\n",
        "3. **Execution**: The Python interpreter then executes this bytecode on the Python Virtual Machine (PVM).\n",
        "\n",
        "This approach allows for immediate feedback when running Python code, making it suitable for rapid development and testing. It also contributes to Python's simplicity and ease of use.\n",
        "\n",
        "### Key Benefits of Python's Interpreter:\n",
        "- **Interactivity**: You can run code interactively (e.g., in a Python shell or REPL), which is great for debugging and exploration.\n",
        "- **Portability**: Since Python bytecode is platform-independent, Python code can be executed on any machine with the Python interpreter installed.\n",
        "- **Ease of use**: Python code can be written, tested, and debugged more easily because it doesn’t require a separate compilation step.\n",
        "\n"
      ],
      "metadata": {
        "id": "HhGmfZl2pKgo"
      }
    },
    {
      "cell_type": "markdown",
      "source": [
        "**3. What are pre-defined keywords in Python?**"
      ],
      "metadata": {
        "id": "KIvLxMEDpU2g"
      }
    },
    {
      "cell_type": "markdown",
      "source": [
        "Ans--> In Python, predefined keywords (also known as reserved words) are special words that have a predefined meaning and cannot be used as identifiers (like variable names, function names, etc.). These keywords are reserved by the Python programming language for its own syntax and operations.\n",
        "\n",
        "Here is a list of Python's predefined keywords:\n",
        "\n",
        "1. `False`\n",
        "2. `None`\n",
        "3. `True`\n",
        "4. `and`\n",
        "5. `as`\n",
        "6. `assert`\n",
        "7. `async`\n",
        "8. `await`\n",
        "9. `break`\n",
        "10. `class`\n",
        "11. `continue`\n",
        "12. `def`\n",
        "13. `del`\n",
        "14. `elif`\n",
        "15. `else`\n",
        "16. `except`\n",
        "17. `finally`\n",
        "18. `for`\n",
        "19. `from`\n",
        "20. `global`\n",
        "21. `if`\n",
        "22. `import`\n",
        "23. `in`\n",
        "24. `is`\n",
        "25. `lambda`\n",
        "26. `nonlocal`\n",
        "27. `not`\n",
        "28. `or`\n",
        "29. `pass`\n",
        "30. `raise`\n",
        "31. `return`\n",
        "32. `try`\n",
        "33. `while`\n",
        "34. `with`\n",
        "35. `yield`\n",
        "\n",
        "These keywords define the structure and behavior of Python programs. They cannot be used for naming variables, functions, or other identifiers. For example, `if`, `else`, and `while` are used for control flow, while `def` is used to define functions.\n",
        "\n",
        "To check the list of keywords in your version of Python, you can use the following code:\n",
        "\n",
        "```python\n",
        "import keyword\n",
        "print(keyword.kwlist)\n",
        "```\n",
        "\n",
        "This will print the list of all reserved keywords in your current Python version."
      ],
      "metadata": {
        "id": "QENMuxBspd_Q"
      }
    },
    {
      "cell_type": "markdown",
      "source": [
        "**4. Can keywords be used as variable names?**"
      ],
      "metadata": {
        "id": "IvVPVoldpm6w"
      }
    },
    {
      "cell_type": "markdown",
      "source": [
        "Ans--> No, keywords cannot be used as variable names in programming. Keywords are reserved words in a programming language that have a special meaning and are used to define the syntax and structure of the language. For example, in Python, words like `if`, `else`, `while`, `for`, `def`, `class`, and `import` are all keywords, and they cannot be used as variable names.\n",
        "\n",
        "Trying to use a keyword as a variable name would result in a syntax error. Here's an example in Python:\n",
        "\n",
        "```python\n",
        "if = 10  # This will raise a syntax error.\n",
        "```\n",
        "\n",
        "If you need to use a variable name similar to a keyword, you can usually modify it slightly to avoid conflicts, such as using an underscore (`_`) or changing the case. For example:\n",
        "\n",
        "```python\n",
        "if_variable = 10  # This is valid\n",
        "```"
      ],
      "metadata": {
        "id": "-UPibPqmpvnJ"
      }
    },
    {
      "cell_type": "markdown",
      "source": [
        "**5. What is mutability in Python?**"
      ],
      "metadata": {
        "id": "ILGUot79p2yg"
      }
    },
    {
      "cell_type": "markdown",
      "source": [
        "Ans--> In Python, **mutability** refers to the ability of an object to be modified after it is created. In other words, a mutable object allows you to change its content or state, while an immutable object does not allow modification once it is created.\n",
        "\n",
        "### Mutable Objects:\n",
        "Mutable objects can be modified after creation. Examples of mutable types in Python include:\n",
        "- Lists (`list`)\n",
        "- Dictionaries (`dict`)\n",
        "- Sets (`set`)\n",
        "  \n",
        "You can change the contents of these objects, such as adding or removing elements, or modifying values.\n",
        "\n",
        "Example of a mutable object:\n",
        "```python\n",
        "my_list = [1, 2, 3]\n",
        "my_list[0] = 10  # Modifying the first element of the list\n",
        "print(my_list)  # Output: [10, 2, 3]\n",
        "```\n",
        "\n",
        "### Immutable Objects:\n",
        "Immutable objects, on the other hand, cannot be changed after creation. Once you create an immutable object, its state cannot be altered. Examples of immutable types in Python include:\n",
        "- Strings (`str`)\n",
        "- Tuples (`tuple`)\n",
        "- Frozensets (`frozenset`)\n",
        "- Integers (`int`), Floats (`float`), and other numeric types\n",
        "\n",
        "Example of an immutable object:\n",
        "```python\n",
        "my_string = \"hello\"\n",
        "# Trying to modify an immutable object results in an error\n",
        "# my_string[0] = 'H'  # This will raise an error\n",
        "new_string = \"H\" + my_string[1:]  # You can create a new string\n",
        "print(new_string)  # Output: \"Hello\"\n",
        "```\n",
        "\n",
        "### Key Differences:\n",
        "- **Mutable objects** can have their contents changed, while **immutable objects** cannot.\n",
        "- **Mutable objects** use less memory and can have more flexible usage but can lead to unintentional side effects when passed around in functions or modified in different places in the code.\n",
        "- **Immutable objects** are generally safer in terms of preventing accidental changes but may require more memory for certain operations since new objects need to be created for modifications.\n",
        "\n"
      ],
      "metadata": {
        "id": "x5ZZYiZiqCHQ"
      }
    },
    {
      "cell_type": "markdown",
      "source": [
        "**6.Why are lists mutable, but tuples are immutable?**"
      ],
      "metadata": {
        "id": "OPMcZM6_qei4"
      }
    },
    {
      "cell_type": "markdown",
      "source": [
        "Ans--> In Python, lists are mutable and tuples are immutable primarily due to design choices that cater to different use cases. Here’s an explanation of why:\n",
        "\n",
        "### 1. **Performance Considerations:**\n",
        "   - **Lists (Mutable):** Lists are designed to be flexible and allow for changes in size or content. Since lists are commonly used for dynamic collections of items where elements may need to be added, removed, or modified, having them mutable provides performance advantages in these scenarios.\n",
        "   - **Tuples (Immutable):** Tuples, on the other hand, are optimized for fixed, constant collections of items. By making tuples immutable, Python can provide optimizations like faster access times, reduced memory usage, and safety guarantees (i.e., the content won’t change unexpectedly).\n",
        "\n",
        "### 2. **Semantic Intent:**\n",
        "   - **Lists:** The use of lists implies that the data can change. For example, lists are often used in algorithms that modify or update their contents over time.\n",
        "   - **Tuples:** Tuples, on the other hand, are typically used to represent data that should not change after it is created. This is particularly useful in cases like returning multiple values from a function, or using them as keys in dictionaries (since their immutability guarantees consistency and hashability).\n",
        "\n",
        "### 3. **Hashability:**\n",
        "   - Since lists are mutable, they cannot be used as dictionary keys because their content could change, leading to inconsistent hash values. Tuples, being immutable, can be hashed and used as keys, ensuring they maintain integrity across their usage in data structures like sets and dictionaries.\n",
        "\n",
        "In summary, **lists are mutable** to provide flexibility for dynamic data manipulation, while **tuples are immutable** to offer a more stable, optimized option for representing fixed data and ensuring hashability and safety."
      ],
      "metadata": {
        "id": "O1TzVuj5qrMg"
      }
    },
    {
      "cell_type": "markdown",
      "source": [
        "**7.What is the difference between “==” and “is” operators in Python?**"
      ],
      "metadata": {
        "id": "_U6PrAqBrASY"
      }
    },
    {
      "cell_type": "markdown",
      "source": [
        "Ans--> In Python, the `==` and `is` operators are used for comparison, but they serve different purposes:\n",
        "\n",
        "1. **`==` (Equality Operator)**:\n",
        "   - The `==` operator checks whether the **values** of two objects are equal.\n",
        "   - It compares the data/content of the objects.\n",
        "   - It can be used for any data type (integers, strings, lists, etc.).\n",
        "   \n",
        "   Example:\n",
        "   ```python\n",
        "   a = [1, 2, 3]\n",
        "   b = [1, 2, 3]\n",
        "   print(a == b)  # Output: True (values are the same)\n",
        "   ```\n",
        "\n",
        "2. **`is` (Identity Operator)**:\n",
        "   - The `is` operator checks whether two references **point to the same object** in memory (i.e., whether they are identical objects).\n",
        "   - It does not compare the values but rather the memory addresses of the objects.\n",
        "   \n",
        "   Example:\n",
        "   ```python\n",
        "   a = [1, 2, 3]\n",
        "   b = [1, 2, 3]\n",
        "   print(a is b)  # Output: False (they are two different objects in memory)\n",
        "\n",
        "   c = a\n",
        "   print(a is c)  # Output: True (both refer to the same object)\n",
        "   ```\n",
        "\n",
        "### Summary:\n",
        "- **`==`** compares **values** of objects.\n",
        "- **`is`** compares **identities** (i.e., checks if both variables refer to the same object in memory)."
      ],
      "metadata": {
        "id": "saIBKuz9rNzP"
      }
    },
    {
      "cell_type": "markdown",
      "source": [
        "**8.What are logical operators in Python?**"
      ],
      "metadata": {
        "id": "bnGMmNWurRQv"
      }
    },
    {
      "cell_type": "markdown",
      "source": [
        "Ans--> In Python, logical operators are used to combine conditional statements (expressions) and evaluate their truth value. They allow you to perform logical operations such as AND, OR, and NOT.\n",
        "\n",
        "Here are the main logical operators in Python:\n",
        "\n",
        "1. **`and`**: Returns `True` if both conditions are true. If either of the conditions is false, it returns `False`.\n",
        "   - Example:\n",
        "     ```python\n",
        "     x = 5\n",
        "     y = 10\n",
        "     result = (x > 3) and (y < 15)  # True, since both conditions are true\n",
        "     ```\n",
        "\n",
        "2. **`or`**: Returns `True` if at least one of the conditions is true. It returns `False` only if both conditions are false.\n",
        "   - Example:\n",
        "     ```python\n",
        "     x = 5\n",
        "     y = 10\n",
        "     result = (x > 3) or (y > 20)  # True, because the first condition is true\n",
        "     ```\n",
        "\n",
        "3. **`not`**: Reverses the truth value of the condition. If the condition is true, it returns `False`, and if it's false, it returns `True`.\n",
        "   - Example:\n",
        "     ```python\n",
        "     x = 5\n",
        "     result = not(x < 3)  # True, because the condition (x < 3) is False, and `not` makes it True\n",
        "     ```\n",
        "\n",
        "### Example of usage:\n",
        "```python\n",
        "a = True\n",
        "b = False\n",
        "\n",
        "print(a and b)  # False\n",
        "print(a or b)   # True\n",
        "print(not a)    # False\n",
        "```\n",
        "\n",
        "These logical operators are useful in control flow (like `if` statements) to make decisions based on multiple conditions."
      ],
      "metadata": {
        "id": "ZI5mDicDra83"
      }
    },
    {
      "cell_type": "markdown",
      "source": [
        "**9.What is type casting in Python?**"
      ],
      "metadata": {
        "id": "ggww-99DrfH_"
      }
    },
    {
      "cell_type": "markdown",
      "source": [
        "Ans--> In Python, logical operators are used to combine conditional statements (expressions) and evaluate their truth value. They allow you to perform logical operations such as AND, OR, and NOT.\n",
        "\n",
        "Here are the main logical operators in Python:\n",
        "\n",
        "1. **`and`**: Returns `True` if both conditions are true. If either of the conditions is false, it returns `False`.\n",
        "   - Example:\n",
        "     ```python\n",
        "     x = 5\n",
        "     y = 10\n",
        "     result = (x > 3) and (y < 15)  # True, since both conditions are true\n",
        "     ```\n",
        "\n",
        "2. **`or`**: Returns `True` if at least one of the conditions is true. It returns `False` only if both conditions are false.\n",
        "   - Example:\n",
        "     ```python\n",
        "     x = 5\n",
        "     y = 10\n",
        "     result = (x > 3) or (y > 20)  # True, because the first condition is true\n",
        "     ```\n",
        "\n",
        "3. **`not`**: Reverses the truth value of the condition. If the condition is true, it returns `False`, and if it's false, it returns `True`.\n",
        "   - Example:\n",
        "     ```python\n",
        "     x = 5\n",
        "     result = not(x < 3)  # True, because the condition (x < 3) is False, and `not` makes it True\n",
        "     ```\n",
        "\n",
        "### Example of usage:\n",
        "```python\n",
        "a = True\n",
        "b = False\n",
        "\n",
        "print(a and b)  # False\n",
        "print(a or b)   # True\n",
        "print(not a)    # False\n",
        "```\n",
        "\n",
        "These logical operators are useful in control flow (like `if` statements) to make decisions based on multiple conditions."
      ],
      "metadata": {
        "id": "sFFrrAJnrj7P"
      }
    },
    {
      "cell_type": "markdown",
      "source": [
        "**10.What is the difference between implicit and explicit type casting?**"
      ],
      "metadata": {
        "id": "7Ftn38Xnroom"
      }
    },
    {
      "cell_type": "markdown",
      "source": [
        "Ans--> Implicit and explicit type casting are two methods used to convert one data type into another in programming. Here's a breakdown of the differences:\n",
        "\n",
        "### 1. **Implicit Type Casting (Automatic Type Casting)**\n",
        "- **Definition**: Implicit type casting is automatically done by the compiler or interpreter without the programmer's intervention. It typically occurs when converting a lower data type to a higher one (e.g., from `int` to `float`).\n",
        "- **When**: This happens when there's no risk of data loss or overflow. For example, converting from an integer to a floating-point number is safe and automatic.\n",
        "- **Example**:\n",
        "    ```python\n",
        "    int_value = 5\n",
        "    float_value = int_value  # Implicit casting from int to float\n",
        "    print(float_value)  # Output: 5.0\n",
        "    ```\n",
        "\n",
        "- **Behavior**: Implicit casting usually occurs in cases where there’s no loss of precision, and the conversion is guaranteed to be safe.\n",
        "\n",
        "### 2. **Explicit Type Casting (Manual Type Casting)**\n",
        "- **Definition**: Explicit type casting requires the programmer to specify the conversion. This is often needed when converting from a higher data type to a lower one (e.g., from `float` to `int`), or when there's a possibility of losing data during the conversion.\n",
        "- **When**: This happens when the conversion might result in a loss of information, and the programmer must ensure that the conversion is intentional.\n",
        "- **Example**:\n",
        "    ```python\n",
        "    float_value = 5.75\n",
        "    int_value = int(float_value)  # Explicit casting from float to int\n",
        "    print(int_value)  # Output: 5\n",
        "    ```\n",
        "\n",
        "- **Behavior**: Explicit casting is done using specific syntax (e.g., `int()`, `float()`) and might lead to loss of data or precision, like truncating decimal places when converting a `float` to an `int`.\n",
        "\n",
        "### Summary of Key Differences:\n",
        "| **Aspect**            | **Implicit Type Casting**                                | **Explicit Type Casting**                              |\n",
        "|-----------------------|----------------------------------------------------------|--------------------------------------------------------|\n",
        "| **Automation**         | Done automatically by the compiler/interpreter          | Done manually by the programmer                        |\n",
        "| **Risk of Data Loss** | No data loss or risk involved                           | Can lead to data loss or precision loss                |\n",
        "| **Direction**          | Usually converts from a smaller type to a larger one     | Usually converts from a larger type to a smaller one   |\n",
        "| **Example**           | `int` to `float`, `char` to `int`                        | `float` to `int`, `double` to `float`                  |\n",
        "\n"
      ],
      "metadata": {
        "id": "VELWzpr0rw_5"
      }
    },
    {
      "cell_type": "markdown",
      "source": [
        "**11.What is the purpose of conditional statements in Python?**"
      ],
      "metadata": {
        "id": "5HmhWT_8r0XA"
      }
    },
    {
      "cell_type": "markdown",
      "source": [
        "Ans--> Conditional statements in Python are used to control the flow of execution in a program based on certain conditions. They allow the program to make decisions and execute different blocks of code depending on whether a specific condition is true or false. This enables more flexible and dynamic behavior in a program.\n",
        "\n",
        "In Python, conditional statements are implemented using the following:\n",
        "\n",
        "1. **`if` statement**: Executes a block of code if the specified condition is true.\n",
        "   ```python\n",
        "   if condition:\n",
        "       # Code to execute if condition is true\n",
        "   ```\n",
        "\n",
        "2. **`elif` (else if) statement**: Checks another condition if the previous `if` or `elif` conditions were false.\n",
        "   ```python\n",
        "   if condition1:\n",
        "       # Code for condition1\n",
        "   elif condition2:\n",
        "       # Code for condition2\n",
        "   ```\n",
        "\n",
        "3. **`else` statement**: Executes a block of code if none of the preceding conditions are true.\n",
        "   ```python\n",
        "   if condition1:\n",
        "       # Code for condition1\n",
        "   else:\n",
        "       # Code if condition1 is false\n",
        "   ```\n",
        "\n",
        "### Example:\n",
        "```python\n",
        "x = 10\n",
        "if x > 5:\n",
        "    print(\"x is greater than 5\")\n",
        "elif x == 5:\n",
        "    print(\"x is equal to 5\")\n",
        "else:\n",
        "    print(\"x is less than 5\")\n",
        "```\n",
        "\n",
        "### Purpose:\n",
        "- **Decision-making**: Helps the program decide between different actions or paths.\n",
        "- **Control flow**: Determines the order in which parts of the program are executed.\n",
        "- **Error handling**: Can be used to check for invalid or exceptional conditions and handle them appropriately.\n",
        "\n"
      ],
      "metadata": {
        "id": "OpW6o3Qyr5cn"
      }
    },
    {
      "cell_type": "markdown",
      "source": [
        "**12.How does the elif statement work?**"
      ],
      "metadata": {
        "id": "1ceeafUmsCCx"
      }
    },
    {
      "cell_type": "markdown",
      "source": [
        "Ans--> The `elif` (short for \"else if\") statement is used in Python to check multiple conditions in an `if-else` chain. It allows you to check for more than two conditions without writing nested `if` statements. Here's how it works:\n",
        "\n",
        "1. The program evaluates the condition in the `if` statement first.\n",
        "2. If the `if` condition is `True`, it runs the block of code associated with the `if` and skips the rest of the `elif` and `else` statements.\n",
        "3. If the `if` condition is `False`, it then checks the condition in the first `elif` statement.\n",
        "4. If the `elif` condition is `True`, it executes the block of code under `elif` and skips the rest of the statements.\n",
        "5. If none of the `if` or `elif` conditions are `True`, the program executes the code under the `else` statement (if it exists).\n",
        "\n",
        "Here is an example:\n",
        "\n",
        "```python\n",
        "x = 10\n",
        "\n",
        "if x > 20:\n",
        "    print(\"x is greater than 20\")\n",
        "elif x > 5:\n",
        "    print(\"x is greater than 5 but less than or equal to 20\")\n",
        "else:\n",
        "    print(\"x is 5 or less\")\n",
        "```\n",
        "\n",
        "**Explanation:**\n",
        "- The program first checks if `x > 20`. Since `x = 10`, this condition is `False`, so it moves to the `elif` statement.\n",
        "- It then checks if `x > 5`. Since `x = 10`, this condition is `True`, so it prints `\"x is greater than 5 but less than or equal to 20\"`.\n",
        "- The `else` block is not reached because the `elif` condition was `True`.\n",
        "\n",
        "In summary, the `elif` statement allows for multiple conditions to be checked in sequence after the initial `if` condition."
      ],
      "metadata": {
        "id": "ILEURVAqsaD3"
      }
    },
    {
      "cell_type": "markdown",
      "source": [
        "**13.What is the difference between for and while loops?**"
      ],
      "metadata": {
        "id": "nuOhl0ojsdmm"
      }
    },
    {
      "cell_type": "markdown",
      "source": [
        "Ans--> The main difference between a **for** loop and a **while** loop lies in how they are structured and how the loop's condition is evaluated:\n",
        "\n",
        "### **For Loop:**\n",
        "- **Structure:** Typically used when you know beforehand how many times you need to execute a block of code.\n",
        "- **Syntax:**\n",
        "  ```python\n",
        "  for initialization; condition; increment/decrement:\n",
        "      # Code to execute\n",
        "  ```\n",
        "- **Use Case:** Often used for iterating over a range, a collection, or when the number of iterations is known.\n",
        "- **Example:**\n",
        "  ```python\n",
        "  for i in range(5):\n",
        "      print(i)\n",
        "  ```\n",
        "\n",
        "### **While Loop:**\n",
        "- **Structure:** Used when you don't necessarily know how many times the loop will run, but you want to repeat an action until a specific condition is met.\n",
        "- **Syntax:**\n",
        "  ```python\n",
        "  while condition:\n",
        "      # Code to execute\n",
        "  ```\n",
        "- **Use Case:** Typically used when the loop's termination depends on dynamic conditions evaluated at the start of each iteration.\n",
        "- **Example:**\n",
        "  ```python\n",
        "  i = 0\n",
        "  while i < 5:\n",
        "      print(i)\n",
        "      i += 1\n",
        "  ```\n",
        "\n",
        "### Key Differences:\n",
        "1. **Iteration Control:**\n",
        "   - In a **for loop**, the iteration count is controlled by a counter, range, or collection.\n",
        "   - In a **while loop**, the condition is checked before every iteration, and the loop will continue until the condition is false.\n",
        "   \n",
        "2. **Use Case:**\n",
        "   - Use a **for loop** when the number of iterations is known or can be determined ahead of time (like looping through a range or list).\n",
        "   - Use a **while loop** when the number of iterations is not known and depends on a condition being true.\n",
        "\n",
        "In summary:\n",
        "- **For loops** are typically used when you know the number of iterations.\n",
        "- **While loops** are used when you don't know the number of iterations and rely on a condition to terminate the loop."
      ],
      "metadata": {
        "id": "LThft5vBskq-"
      }
    },
    {
      "cell_type": "markdown",
      "source": [
        "**14.Describe a scenario where a while loop is more suitable than a for loop.**"
      ],
      "metadata": {
        "id": "tpb_k8Vnso-_"
      }
    },
    {
      "cell_type": "markdown",
      "source": [
        "Ans--> A **while loop** is more suitable than a **for loop** when the number of iterations is not known in advance and depends on a condition that might change dynamically during the execution.\n",
        "\n",
        "### Scenario:\n",
        "\n",
        "Imagine you are building a system that processes user input until a valid entry is received. The user could enter incorrect data multiple times, and you need to keep prompting them until they provide the correct input. The number of attempts is uncertain, so a **while loop** is ideal because it continues to execute as long as the condition (valid input) is not met.\n",
        "\n",
        "#### Example:\n",
        "\n",
        "```python\n",
        "valid_input = False\n",
        "\n",
        "while not valid_input:\n",
        "    user_input = input(\"Enter a valid number between 1 and 10: \")\n",
        "    if user_input.isdigit():\n",
        "        number = int(user_input)\n",
        "        if 1 <= number <= 10:\n",
        "            valid_input = True\n",
        "            print(f\"Valid input received: {number}\")\n",
        "        else:\n",
        "            print(\"The number is out of range. Try again.\")\n",
        "    else:\n",
        "        print(\"That's not a number. Please try again.\")\n",
        "```\n",
        "\n",
        "In this scenario, the **while loop** is more appropriate because the number of iterations (user input attempts) is not fixed; it depends on when the user eventually enters valid input. The loop continues indefinitely until the correct input is provided. This dynamic condition makes the **while loop** a better choice than a **for loop**, where the number of iterations is typically predetermined."
      ],
      "metadata": {
        "id": "3WuNrwvCs223"
      }
    },
    {
      "cell_type": "markdown",
      "source": [
        "# Practicle Questions"
      ],
      "metadata": {
        "id": "rIQ3HYUws7pH"
      }
    },
    {
      "cell_type": "markdown",
      "source": [
        "**1.Write a Python program to print \"Hello, World!_**"
      ],
      "metadata": {
        "id": "AJczEMzFtAI-"
      }
    },
    {
      "cell_type": "code",
      "source": [
        "# Ans-->\n",
        "print(\"Hello, World!\")\n"
      ],
      "metadata": {
        "colab": {
          "base_uri": "https://localhost:8080/"
        },
        "id": "d3LaitpstaT2",
        "outputId": "19f8377e-e4bd-4ae3-fcc3-0afe59bc50d3"
      },
      "execution_count": 1,
      "outputs": [
        {
          "output_type": "stream",
          "name": "stdout",
          "text": [
            "Hello, World!\n"
          ]
        }
      ]
    },
    {
      "cell_type": "markdown",
      "source": [
        "**2.Write a Python program that displays your name and age**"
      ],
      "metadata": {
        "id": "eBklln0CtwMv"
      }
    },
    {
      "cell_type": "markdown",
      "source": [
        "Ans-->"
      ],
      "metadata": {
        "id": "eaa4ixELuNQe"
      }
    },
    {
      "cell_type": "code",
      "source": [
        "\n",
        "# Define name and age\n",
        "name = \"John Doe\"\n",
        "age = 25\n",
        "\n",
        "# Display the name and age\n",
        "print(\"Name:\", name)\n",
        "print(\"Age:\", age)\n"
      ],
      "metadata": {
        "colab": {
          "base_uri": "https://localhost:8080/"
        },
        "id": "qAmpsadqty5O",
        "outputId": "1e7573ba-2279-4c06-9424-012f079b33cf"
      },
      "execution_count": 3,
      "outputs": [
        {
          "output_type": "stream",
          "name": "stdout",
          "text": [
            "Name: John Doe\n",
            "Age: 25\n"
          ]
        }
      ]
    },
    {
      "cell_type": "markdown",
      "source": [
        "**3.Write code to print all the pre-defined keywords in Python using the keyword library**"
      ],
      "metadata": {
        "id": "1BiuLxBPt-ot"
      }
    },
    {
      "cell_type": "markdown",
      "source": [
        "Ans-->"
      ],
      "metadata": {
        "id": "pFVRkbYBuSNP"
      }
    },
    {
      "cell_type": "code",
      "source": [
        "import keyword\n",
        "\n",
        "# Get the list of all keywords in Python\n",
        "keywords = keyword.kwlist\n",
        "\n",
        "# Print the list of keywords\n",
        "print(keywords)\n"
      ],
      "metadata": {
        "colab": {
          "base_uri": "https://localhost:8080/"
        },
        "id": "5TrUxqNRuT6-",
        "outputId": "348d14a8-7e9f-42bf-a1a8-a9e1deebf0b8"
      },
      "execution_count": 4,
      "outputs": [
        {
          "output_type": "stream",
          "name": "stdout",
          "text": [
            "['False', 'None', 'True', 'and', 'as', 'assert', 'async', 'await', 'break', 'class', 'continue', 'def', 'del', 'elif', 'else', 'except', 'finally', 'for', 'from', 'global', 'if', 'import', 'in', 'is', 'lambda', 'nonlocal', 'not', 'or', 'pass', 'raise', 'return', 'try', 'while', 'with', 'yield']\n"
          ]
        }
      ]
    },
    {
      "cell_type": "markdown",
      "source": [
        "**4.Write a program that checks if a given word is a Python keyword**"
      ],
      "metadata": {
        "id": "gPDCwZvSuZAW"
      }
    },
    {
      "cell_type": "markdown",
      "source": [
        "Ans-->"
      ],
      "metadata": {
        "id": "JQGd-SyyufK-"
      }
    },
    {
      "cell_type": "code",
      "source": [
        "import keyword\n",
        "\n",
        "# Function to check if a word is a Python keyword\n",
        "def is_python_keyword(word):\n",
        "    return word in keyword.kwlist\n",
        "\n",
        "# Input word from the user\n",
        "word = input(\"Enter a word to check if it's a Python keyword: \")\n",
        "\n",
        "# Check and print result\n",
        "if is_python_keyword(word):\n",
        "    print(f\"'{word}' is a Python keyword.\")\n",
        "else:\n",
        "    print(f\"'{word}' is NOT a Python keyword.\")\n",
        "\n"
      ],
      "metadata": {
        "colab": {
          "base_uri": "https://localhost:8080/"
        },
        "id": "lsplZy1UvRTl",
        "outputId": "67d3c7bd-3811-4e30-8988-48ed1a25830e"
      },
      "execution_count": 10,
      "outputs": [
        {
          "output_type": "stream",
          "name": "stdout",
          "text": [
            "Enter a word to check if it's a Python keyword: Word\n",
            "'Word' is NOT a Python keyword.\n"
          ]
        }
      ]
    },
    {
      "cell_type": "markdown",
      "source": [
        "**5.Create a list and tuple in Python, and demonstrate how attempting to change an element works differently\n",
        "for each**"
      ],
      "metadata": {
        "id": "eZ2Nv9b_vXeV"
      }
    },
    {
      "cell_type": "markdown",
      "source": [
        "Ans-->"
      ],
      "metadata": {
        "id": "s3SHhFANvelO"
      }
    },
    {
      "cell_type": "markdown",
      "source": [
        "**1. List Example\n",
        "A list is mutable, meaning you can modify its elements.**"
      ],
      "metadata": {
        "id": "SD4eTG20vqhV"
      }
    },
    {
      "cell_type": "code",
      "source": [
        "# Create a list\n",
        "my_list = [1, 2, 3, 4]\n",
        "\n",
        "# Change the second element (index 1)\n",
        "my_list[1] = 20\n",
        "\n",
        "# Print the modified list\n",
        "print(\"Modified list:\", my_list)\n"
      ],
      "metadata": {
        "colab": {
          "base_uri": "https://localhost:8080/"
        },
        "id": "hruOYfz1vhS2",
        "outputId": "46020452-6a86-4f86-a77b-89d288587af6"
      },
      "execution_count": 11,
      "outputs": [
        {
          "output_type": "stream",
          "name": "stdout",
          "text": [
            "Modified list: [1, 20, 3, 4]\n"
          ]
        }
      ]
    },
    {
      "cell_type": "markdown",
      "source": [
        "**2. Tuple Example**"
      ],
      "metadata": {
        "id": "2VXafIklv_ut"
      }
    },
    {
      "cell_type": "markdown",
      "source": [
        "A tuple is immutable, meaning you cannot modify its elements once it is created."
      ],
      "metadata": {
        "id": "yc9cwa4QwD4-"
      }
    },
    {
      "cell_type": "code",
      "source": [
        "# Create a tuple\n",
        "my_tuple = (1, 2, 3, 4)\n",
        "\n",
        "# Try to change the second element (index 1)\n",
        "try:\n",
        "    my_tuple[1] = 20\n",
        "except TypeError as e:\n",
        "    print(\"Error:\", e)\n"
      ],
      "metadata": {
        "colab": {
          "base_uri": "https://localhost:8080/"
        },
        "id": "cjA5EAtSwHel",
        "outputId": "8c3b3d13-996b-426e-b023-92dc946d2e4c"
      },
      "execution_count": 12,
      "outputs": [
        {
          "output_type": "stream",
          "name": "stdout",
          "text": [
            "Error: 'tuple' object does not support item assignment\n"
          ]
        }
      ]
    },
    {
      "cell_type": "markdown",
      "source": [
        "**6.Write a function to demonstrate the behavior of mutable and immutable arguments**"
      ],
      "metadata": {
        "id": "Ncwzwz2VwLR9"
      }
    },
    {
      "cell_type": "markdown",
      "source": [
        "Ans-->"
      ],
      "metadata": {
        "id": "lw6oFxLtwTK3"
      }
    },
    {
      "cell_type": "code",
      "source": [
        "def demonstrate_mutability(immutable_arg, mutable_arg):\n",
        "    # Modify the mutable argument (a list)\n",
        "    mutable_arg.append(10)\n",
        "    print(f\"Inside function after modifying mutable_arg: {mutable_arg}\")\n",
        "\n",
        "    # Attempt to modify the immutable argument (an integer)\n",
        "    immutable_arg += 5\n",
        "    print(f\"Inside function after modifying immutable_arg: {immutable_arg}\")\n",
        "\n",
        "# Define an immutable argument (integer)\n",
        "immutable_value = 5\n",
        "\n",
        "# Define a mutable argument (list)\n",
        "mutable_value = [1, 2, 3]\n",
        "\n",
        "# Print the original values\n",
        "print(f\"Original immutable_value: {immutable_value}\")\n",
        "print(f\"Original mutable_value: {mutable_value}\")\n",
        "\n",
        "# Call the function\n",
        "demonstrate_mutability(immutable_value, mutable_value)\n",
        "\n",
        "# Print the values after the function call\n",
        "print(f\"After function call - immutable_value: {immutable_value}\")\n",
        "print(f\"After function call - mutable_value: {mutable_value}\")\n"
      ],
      "metadata": {
        "colab": {
          "base_uri": "https://localhost:8080/"
        },
        "id": "6rneMeAMwdf-",
        "outputId": "bc51d3e2-4bd2-4b87-cfc7-179ab13001d4"
      },
      "execution_count": 13,
      "outputs": [
        {
          "output_type": "stream",
          "name": "stdout",
          "text": [
            "Original immutable_value: 5\n",
            "Original mutable_value: [1, 2, 3]\n",
            "Inside function after modifying mutable_arg: [1, 2, 3, 10]\n",
            "Inside function after modifying immutable_arg: 10\n",
            "After function call - immutable_value: 5\n",
            "After function call - mutable_value: [1, 2, 3, 10]\n"
          ]
        }
      ]
    },
    {
      "cell_type": "markdown",
      "source": [
        "**7.Write a function to demonstrate the behavior of mutable and immutable arguments**"
      ],
      "metadata": {
        "id": "s3C5ijGawgD9"
      }
    },
    {
      "cell_type": "markdown",
      "source": [
        "Ans-->"
      ],
      "metadata": {
        "id": "npT3jvZVwm6N"
      }
    },
    {
      "cell_type": "code",
      "source": [
        "def demonstrate_mutable_immutable(mutable_arg, immutable_arg):\n",
        "    print(\"Before modification:\")\n",
        "    print(f\"Mutable argument (list): {mutable_arg}\")\n",
        "    print(f\"Immutable argument (int): {immutable_arg}\")\n",
        "\n",
        "    # Modify the mutable argument\n",
        "    mutable_arg.append(10)\n",
        "    # Modify the immutable argument (this creates a new int object)\n",
        "    immutable_arg += 5\n",
        "\n",
        "    print(\"\\nAfter modification:\")\n",
        "    print(f\"Mutable argument (list): {mutable_arg}\")\n",
        "    print(f\"Immutable argument (int): {immutable_arg}\")\n",
        "\n",
        "\n",
        "# Example usage:\n",
        "my_list = [1, 2, 3]\n",
        "my_int = 5\n",
        "\n",
        "demonstrate_mutable_immutable(my_list, my_int)\n",
        "\n",
        "# Check the state after function call\n",
        "print(\"\\nOutside function:\")\n",
        "print(f\"Mutable argument (list): {my_list}\")  # The list will be modified\n",
        "print(f\"Immutable argument (int): {my_int}\")  # The int will remain unchanged\n"
      ],
      "metadata": {
        "colab": {
          "base_uri": "https://localhost:8080/"
        },
        "id": "kprNJFZNwyPW",
        "outputId": "6f02e5f4-3d0e-4ccb-e83e-08413019b3ba"
      },
      "execution_count": 15,
      "outputs": [
        {
          "output_type": "stream",
          "name": "stdout",
          "text": [
            "Before modification:\n",
            "Mutable argument (list): [1, 2, 3]\n",
            "Immutable argument (int): 5\n",
            "\n",
            "After modification:\n",
            "Mutable argument (list): [1, 2, 3, 10]\n",
            "Immutable argument (int): 10\n",
            "\n",
            "Outside function:\n",
            "Mutable argument (list): [1, 2, 3, 10]\n",
            "Immutable argument (int): 5\n"
          ]
        }
      ]
    },
    {
      "cell_type": "markdown",
      "source": [
        "**8.Write a program to demonstrate the use of logical operators**"
      ],
      "metadata": {
        "id": "sGQLvWhBw2ru"
      }
    },
    {
      "cell_type": "markdown",
      "source": [
        "Ans-->"
      ],
      "metadata": {
        "id": "-YXIGvZcw-N1"
      }
    },
    {
      "cell_type": "code",
      "source": [
        "# Program to demonstrate the use of logical operators\n",
        "\n",
        "# Variables\n",
        "x = 5\n",
        "y = 10\n",
        "z = 15\n",
        "\n",
        "# Using 'and' operator\n",
        "print(\"x > 3 and y < 15:\", x > 3 and y < 15)  # True and True -> True\n",
        "print(\"x < 3 and y > 5:\", x < 3 and y > 5)    # False and True -> False\n",
        "\n",
        "# Using 'or' operator\n",
        "print(\"x < 3 or y < 15:\", x < 3 or y < 15)    # False or True -> True\n",
        "print(\"x < 3 or y > 15:\", x < 3 or y > 15)    # False or False -> False\n",
        "\n",
        "# Using 'not' operator\n",
        "print(\"not(x > 3):\", not(x > 3))  # not(True) -> False\n",
        "print(\"not(y < 15):\", not(y < 15))  # not(True) -> False\n",
        "\n",
        "# Combining logical operators\n",
        "print(\"x > 3 and (y < 15 or z > 20):\", x > 3 and (y < 15 or z > 20))  # True and (True or False) -> True\n",
        "print(\"not(x > 3 and y < 15):\", not(x > 3 and y < 15))  # not(True) -> False\n"
      ],
      "metadata": {
        "colab": {
          "base_uri": "https://localhost:8080/"
        },
        "id": "PpCRvEHLxBnN",
        "outputId": "5fcb539f-d9f1-4a79-92f0-ef9a71a1243b"
      },
      "execution_count": 16,
      "outputs": [
        {
          "output_type": "stream",
          "name": "stdout",
          "text": [
            "x > 3 and y < 15: True\n",
            "x < 3 and y > 5: False\n",
            "x < 3 or y < 15: True\n",
            "x < 3 or y > 15: False\n",
            "not(x > 3): False\n",
            "not(y < 15): False\n",
            "x > 3 and (y < 15 or z > 20): True\n",
            "not(x > 3 and y < 15): False\n"
          ]
        }
      ]
    },
    {
      "cell_type": "markdown",
      "source": [
        "**9.Write a Python program to convert user input from string to integer, float, and boolean types**"
      ],
      "metadata": {
        "id": "c5W_gAGixDad"
      }
    },
    {
      "cell_type": "markdown",
      "source": [
        "Ans-->"
      ],
      "metadata": {
        "id": "9D6ClLO6xLt2"
      }
    },
    {
      "cell_type": "code",
      "source": [
        "# Function to get user input and convert it to different types\n",
        "def convert_input():\n",
        "    user_input = input(\"Enter a value: \")\n",
        "\n",
        "    # Convert to integer\n",
        "    try:\n",
        "        int_value = int(user_input)\n",
        "        print(f\"Integer value: {int_value}\")\n",
        "    except ValueError:\n",
        "        print(\"Cannot convert to integer.\")\n",
        "\n",
        "    # Convert to float\n",
        "    try:\n",
        "        float_value = float(user_input)\n",
        "        print(f\"Float value: {float_value}\")\n",
        "    except ValueError:\n",
        "        print(\"Cannot convert to float.\")\n",
        "\n",
        "    # Convert to boolean\n",
        "    # Note: Empty string, \"0\", \"False\" are considered False\n",
        "    bool_value = user_input.lower() not in [\"\", \"0\", \"false\"]\n",
        "    print(f\"Boolean value: {bool_value}\")\n",
        "\n",
        "# Call the function to execute\n",
        "convert_input()\n"
      ],
      "metadata": {
        "colab": {
          "base_uri": "https://localhost:8080/"
        },
        "id": "AUekYg19xNJt",
        "outputId": "e5ba3f5d-6e23-4cbf-93a6-9f5232624c94"
      },
      "execution_count": 17,
      "outputs": [
        {
          "output_type": "stream",
          "name": "stdout",
          "text": [
            "Enter a value: 5\n",
            "Integer value: 5\n",
            "Float value: 5.0\n",
            "Boolean value: True\n"
          ]
        }
      ]
    },
    {
      "cell_type": "markdown",
      "source": [
        "**10.Write a Python program to convert user input from string to integer, float, and boolean types**"
      ],
      "metadata": {
        "id": "DD9kazysxS9t"
      }
    },
    {
      "cell_type": "markdown",
      "source": [
        "Ans-->"
      ],
      "metadata": {
        "id": "u2srI7E3xlV1"
      }
    },
    {
      "cell_type": "code",
      "source": [
        "# Get user input as a string\n",
        "user_input = input(\"Enter something: \")\n",
        "\n",
        "# Convert to integer, if possible\n",
        "try:\n",
        "    int_value = int(user_input)\n",
        "    print(f\"Converted to integer: {int_value}\")\n",
        "except ValueError:\n",
        "    print(\"Cannot convert to integer.\")\n",
        "\n",
        "# Convert to float, if possible\n",
        "try:\n",
        "    float_value = float(user_input)\n",
        "    print(f\"Converted to float: {float_value}\")\n",
        "except ValueError:\n",
        "    print(\"Cannot convert to float.\")\n",
        "\n",
        "# Convert to boolean\n",
        "# Any non-empty string is considered True, and an empty string is False\n",
        "boolean_value = bool(user_input)\n",
        "print(f\"Converted to boolean: {boolean_value}\")\n"
      ],
      "metadata": {
        "colab": {
          "base_uri": "https://localhost:8080/"
        },
        "id": "A1RSTmP1xnAk",
        "outputId": "5d74a1c5-a640-484a-d938-f743a2512de9"
      },
      "execution_count": 18,
      "outputs": [
        {
          "output_type": "stream",
          "name": "stdout",
          "text": [
            "Enter something: food\n",
            "Cannot convert to integer.\n",
            "Cannot convert to float.\n",
            "Converted to boolean: True\n"
          ]
        }
      ]
    },
    {
      "cell_type": "markdown",
      "source": [
        "**11.Write a program that checks if a number is positive, negative, or zero**"
      ],
      "metadata": {
        "id": "K5cq1zg0xtpF"
      }
    },
    {
      "cell_type": "markdown",
      "source": [
        "Ans-->"
      ],
      "metadata": {
        "id": "1RBd4uY6x8GF"
      }
    },
    {
      "cell_type": "code",
      "source": [
        "# Get input from the user\n",
        "num = float(input(\"Enter a number: \"))\n",
        "\n",
        "# Check if the number is positive, negative, or zero\n",
        "if num > 0:\n",
        "    print(\"The number is positive.\")\n",
        "elif num < 0:\n",
        "    print(\"The number is negative.\")\n",
        "else:\n",
        "    print(\"The number is zero.\")\n"
      ],
      "metadata": {
        "colab": {
          "base_uri": "https://localhost:8080/"
        },
        "id": "eqRGpqMWx9nd",
        "outputId": "76c12614-44e9-4739-e1f0-42523adb5818"
      },
      "execution_count": 19,
      "outputs": [
        {
          "output_type": "stream",
          "name": "stdout",
          "text": [
            "Enter a number: 5\n",
            "The number is positive.\n"
          ]
        }
      ]
    },
    {
      "cell_type": "markdown",
      "source": [
        "**12.Write a for loop to print numbers from 1 to 100**"
      ],
      "metadata": {
        "id": "xiyWyvOHyEB-"
      }
    },
    {
      "cell_type": "markdown",
      "source": [
        "Ans-->"
      ],
      "metadata": {
        "id": "rXOX3fFSyOq-"
      }
    },
    {
      "cell_type": "code",
      "source": [
        "for i in range(1, 101):\n",
        "    print(i)\n"
      ],
      "metadata": {
        "colab": {
          "base_uri": "https://localhost:8080/"
        },
        "id": "QlfFoookyQc8",
        "outputId": "42525dd8-ff78-42c7-eacf-1edf725deb1c"
      },
      "execution_count": 20,
      "outputs": [
        {
          "output_type": "stream",
          "name": "stdout",
          "text": [
            "1\n",
            "2\n",
            "3\n",
            "4\n",
            "5\n",
            "6\n",
            "7\n",
            "8\n",
            "9\n",
            "10\n",
            "11\n",
            "12\n",
            "13\n",
            "14\n",
            "15\n",
            "16\n",
            "17\n",
            "18\n",
            "19\n",
            "20\n",
            "21\n",
            "22\n",
            "23\n",
            "24\n",
            "25\n",
            "26\n",
            "27\n",
            "28\n",
            "29\n",
            "30\n",
            "31\n",
            "32\n",
            "33\n",
            "34\n",
            "35\n",
            "36\n",
            "37\n",
            "38\n",
            "39\n",
            "40\n",
            "41\n",
            "42\n",
            "43\n",
            "44\n",
            "45\n",
            "46\n",
            "47\n",
            "48\n",
            "49\n",
            "50\n",
            "51\n",
            "52\n",
            "53\n",
            "54\n",
            "55\n",
            "56\n",
            "57\n",
            "58\n",
            "59\n",
            "60\n",
            "61\n",
            "62\n",
            "63\n",
            "64\n",
            "65\n",
            "66\n",
            "67\n",
            "68\n",
            "69\n",
            "70\n",
            "71\n",
            "72\n",
            "73\n",
            "74\n",
            "75\n",
            "76\n",
            "77\n",
            "78\n",
            "79\n",
            "80\n",
            "81\n",
            "82\n",
            "83\n",
            "84\n",
            "85\n",
            "86\n",
            "87\n",
            "88\n",
            "89\n",
            "90\n",
            "91\n",
            "92\n",
            "93\n",
            "94\n",
            "95\n",
            "96\n",
            "97\n",
            "98\n",
            "99\n",
            "100\n"
          ]
        }
      ]
    },
    {
      "cell_type": "markdown",
      "source": [
        "**13.Write a Python program to find the sum of all even numbers between 1 and 50**"
      ],
      "metadata": {
        "id": "4VWhSbe2yTol"
      }
    },
    {
      "cell_type": "markdown",
      "source": [
        "Ans-->"
      ],
      "metadata": {
        "id": "2P4lipvnyhiN"
      }
    },
    {
      "cell_type": "code",
      "source": [
        "# Initialize the sum to 0\n",
        "sum_of_even_numbers = 0\n",
        "\n",
        "# Loop through numbers from 1 to 50\n",
        "for number in range(1, 51):\n",
        "    if number % 2 == 0:\n",
        "        sum_of_even_numbers += number\n",
        "\n",
        "# Print the result\n",
        "print(\"Sum of all even numbers between 1 and 50:\", sum_of_even_numbers)\n"
      ],
      "metadata": {
        "colab": {
          "base_uri": "https://localhost:8080/"
        },
        "id": "qGIBvdGYyjHM",
        "outputId": "0441496d-bbd5-40e6-9a34-1daeb959e15f"
      },
      "execution_count": 21,
      "outputs": [
        {
          "output_type": "stream",
          "name": "stdout",
          "text": [
            "Sum of all even numbers between 1 and 50: 650\n"
          ]
        }
      ]
    },
    {
      "cell_type": "markdown",
      "source": [
        "**14. Write a program to reverse a string using a while loop**"
      ],
      "metadata": {
        "id": "A6UxkJH4ymPc"
      }
    },
    {
      "cell_type": "markdown",
      "source": [
        "Ans-->"
      ],
      "metadata": {
        "id": "r6uQvZuEyuK8"
      }
    },
    {
      "cell_type": "code",
      "source": [
        "# Function to reverse a string using a while loop\n",
        "def reverse_string(input_string):\n",
        "    reversed_string = \"\"\n",
        "    index = len(input_string) - 1  # Start from the last index\n",
        "\n",
        "    while index >= 0:\n",
        "        reversed_string += input_string[index]\n",
        "        index -= 1  # Move to the previous character\n",
        "\n",
        "    return reversed_string\n",
        "\n",
        "# Test the function\n",
        "input_string = \"hello\"\n",
        "reversed_string = reverse_string(input_string)\n",
        "print(\"Reversed String:\", reversed_string)\n"
      ],
      "metadata": {
        "colab": {
          "base_uri": "https://localhost:8080/"
        },
        "id": "kj3OUppdy4L9",
        "outputId": "4f9b9e4e-1816-4745-f368-54890f882cda"
      },
      "execution_count": 22,
      "outputs": [
        {
          "output_type": "stream",
          "name": "stdout",
          "text": [
            "Reversed String: olleh\n"
          ]
        }
      ]
    },
    {
      "cell_type": "markdown",
      "source": [
        "**15.Write a Python program to calculate the factorial of a number provided by the user using a while loop.**"
      ],
      "metadata": {
        "id": "cVmw2ImVy6rs"
      }
    },
    {
      "cell_type": "markdown",
      "source": [
        "Ans-->"
      ],
      "metadata": {
        "id": "QHDVMEOFzCMW"
      }
    },
    {
      "cell_type": "code",
      "source": [
        "# Function to calculate factorial using while loop\n",
        "def factorial(n):\n",
        "    result = 1\n",
        "    while n > 1:\n",
        "        result *= n\n",
        "        n -= 1\n",
        "    return result\n",
        "\n",
        "# Get input from the user\n",
        "num = int(input(\"Enter a number to calculate its factorial: \"))\n",
        "\n",
        "# Ensure the number is non-negative\n",
        "if num < 0:\n",
        "    print(\"Factorial is not defined for negative numbers.\")\n",
        "else:\n",
        "    print(f\"The factorial of {num} is {factorial(num)}\")\n"
      ],
      "metadata": {
        "colab": {
          "base_uri": "https://localhost:8080/"
        },
        "id": "oGC9CEoqzDuz",
        "outputId": "b2dc4451-b906-44ed-cf2f-c65937c8c5af"
      },
      "execution_count": 23,
      "outputs": [
        {
          "output_type": "stream",
          "name": "stdout",
          "text": [
            "Enter a number to calculate its factorial: 15\n",
            "The factorial of 15 is 1307674368000\n"
          ]
        }
      ]
    },
    {
      "cell_type": "markdown",
      "source": [
        "# Assignment Complete"
      ],
      "metadata": {
        "id": "BK3G8q_GzJT9"
      }
    }
  ]
}